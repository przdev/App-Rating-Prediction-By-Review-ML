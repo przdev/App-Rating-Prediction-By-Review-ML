{
 "cells": [
  {
   "cell_type": "code",
   "execution_count": 1,
   "metadata": {},
   "outputs": [
    {
     "name": "stdout",
     "output_type": "stream",
     "text": [
      "Python version: 3.7.3 (default, Apr  3 2019, 05:39:12) \n",
      "[GCC 8.3.0]\n",
      "pandas version: 0.24.2\n",
      "matplotlib version: 3.0.3\n",
      "NumPy version: 1.16.3\n",
      "-------------------------\n"
     ]
    }
   ],
   "source": [
    "#load packages\n",
    "import sys #access to system parameters https://docs.python.org/3/library/sys.html\n",
    "print(\"Python version: {}\". format(sys.version))\n",
    "\n",
    "import pandas as pd #collection of functions for data processing and analysis modeled after R dataframes with SQL like features\n",
    "print(\"pandas version: {}\". format(pd.__version__))\n",
    "\n",
    "import matplotlib #collection of functions for scientific and publication-ready visualization\n",
    "print(\"matplotlib version: {}\". format(matplotlib.__version__))\n",
    "\n",
    "import numpy as np #foundational package for scientific computing\n",
    "print(\"NumPy version: {}\". format(np.__version__))\n",
    "\n",
    "# import pandas_profiling\n",
    "\n",
    "# NLTK\n",
    "import nltk\n",
    "from nltk.tokenize import word_tokenize, sent_tokenize \n",
    "from nltk import pos_tag\n",
    "from nltk.corpus import stopwords\n",
    "from nltk.stem import SnowballStemmer\n",
    "import string\n",
    "from textblob import TextBlob\n",
    "\n",
    "#Common Model Algorithms\n",
    "from sklearn import svm, tree, linear_model, neighbors, naive_bayes, ensemble, discriminant_analysis, gaussian_process\n",
    "\n",
    "#Common Model Helpers\n",
    "from sklearn.preprocessing import OneHotEncoder, LabelEncoder\n",
    "from sklearn import feature_selection\n",
    "from sklearn import model_selection\n",
    "from sklearn import metrics\n",
    "from sklearn.feature_extraction.text import CountVectorizer, TfidfVectorizer\n",
    "from sklearn.metrics import confusion_matrix \n",
    "from sklearn.metrics import accuracy_score, f1_score, precision_score, recall_score, classification_report, confusion_matrix\n",
    "from sklearn.model_selection import train_test_split, KFold\n",
    "\n",
    "\n",
    "# machine learning\n",
    "from sklearn.linear_model import LogisticRegression\n",
    "from sklearn.svm import SVC, LinearSVC\n",
    "from sklearn.ensemble import RandomForestClassifier\n",
    "from sklearn.neighbors import KNeighborsClassifier\n",
    "from sklearn.naive_bayes import GaussianNB\n",
    "from sklearn.linear_model import Perceptron\n",
    "from sklearn.linear_model import SGDClassifier\n",
    "from sklearn.tree import DecisionTreeClassifier\n",
    "from sklearn.multiclass import OneVsRestClassifier\n",
    "from sklearn.linear_model import LogisticRegression\n",
    "\n",
    "\n",
    "#Visualization\n",
    "import matplotlib as mpl\n",
    "import matplotlib.pyplot as plt\n",
    "import matplotlib.pylab as pylab\n",
    "import seaborn as sns\n",
    "\n",
    "#Configure Visualization Defaults\n",
    "#%matplotlib inline = show plots in Jupyter Notebook browser\n",
    "%matplotlib inline\n",
    "mpl.style.use('ggplot')\n",
    "sns.set_style('white')\n",
    "# pylab.rcParams['figure.figsize'] = 12,8\n",
    "\n",
    "#ignore warnings\n",
    "import warnings\n",
    "warnings.filterwarnings('ignore')\n",
    "print('-'*25)"
   ]
  },
  {
   "cell_type": "code",
   "execution_count": 2,
   "metadata": {},
   "outputs": [],
   "source": [
    "train = pd.read_csv('../data/train (3) (1) (3).csv',index_col=0)\n",
    "test = pd.read_csv('../data/test (3) (1) (3).csv',index_col=0)"
   ]
  },
  {
   "cell_type": "code",
   "execution_count": 3,
   "metadata": {},
   "outputs": [
    {
     "data": {
      "text/html": [
       "<div>\n",
       "<style scoped>\n",
       "    .dataframe tbody tr th:only-of-type {\n",
       "        vertical-align: middle;\n",
       "    }\n",
       "\n",
       "    .dataframe tbody tr th {\n",
       "        vertical-align: top;\n",
       "    }\n",
       "\n",
       "    .dataframe thead th {\n",
       "        text-align: right;\n",
       "    }\n",
       "</style>\n",
       "<table border=\"1\" class=\"dataframe\">\n",
       "  <thead>\n",
       "    <tr style=\"text-align: right;\">\n",
       "      <th></th>\n",
       "      <th>App Version Code</th>\n",
       "      <th>App Version Name</th>\n",
       "      <th>Review Text</th>\n",
       "      <th>Review Title</th>\n",
       "      <th>Star Rating</th>\n",
       "    </tr>\n",
       "    <tr>\n",
       "      <th>id</th>\n",
       "      <th></th>\n",
       "      <th></th>\n",
       "      <th></th>\n",
       "      <th></th>\n",
       "      <th></th>\n",
       "    </tr>\n",
       "  </thead>\n",
       "  <tbody>\n",
       "    <tr>\n",
       "      <th>b817b0f0-a2f8-4c9d-a5f6-d3fbf8b1d7e9</th>\n",
       "      <td>NaN</td>\n",
       "      <td>NaN</td>\n",
       "      <td>Very bad wallet balance not use.</td>\n",
       "      <td>NaN</td>\n",
       "      <td>1</td>\n",
       "    </tr>\n",
       "    <tr>\n",
       "      <th>c7844e8f-56c1-487b-ae3e-df2fdf4c1767</th>\n",
       "      <td>43.0</td>\n",
       "      <td>2.30</td>\n",
       "      <td>Froud app i recharge 199 but not done also sen...</td>\n",
       "      <td>NaN</td>\n",
       "      <td>1</td>\n",
       "    </tr>\n",
       "    <tr>\n",
       "      <th>93ff57f7-9e02-4fa9-b779-3db82b8af0a4</th>\n",
       "      <td>52.0</td>\n",
       "      <td>2.12</td>\n",
       "      <td>Waste to write comments also</td>\n",
       "      <td>Waste no use</td>\n",
       "      <td>2</td>\n",
       "    </tr>\n",
       "    <tr>\n",
       "      <th>df2dcdef-c09a-4f35-afab-e1231d3fec9a</th>\n",
       "      <td>62.0</td>\n",
       "      <td>2.21</td>\n",
       "      <td>Nice apo</td>\n",
       "      <td>NaN</td>\n",
       "      <td>5</td>\n",
       "    </tr>\n",
       "    <tr>\n",
       "      <th>11f8f968-4cec-4424-8427-9709ab05b5be</th>\n",
       "      <td>69.0</td>\n",
       "      <td>2.28</td>\n",
       "      <td>Good nice app</td>\n",
       "      <td>NaN</td>\n",
       "      <td>5</td>\n",
       "    </tr>\n",
       "  </tbody>\n",
       "</table>\n",
       "</div>"
      ],
      "text/plain": [
       "                                      App Version Code  App Version Name  \\\n",
       "id                                                                         \n",
       "b817b0f0-a2f8-4c9d-a5f6-d3fbf8b1d7e9               NaN               NaN   \n",
       "c7844e8f-56c1-487b-ae3e-df2fdf4c1767              43.0              2.30   \n",
       "93ff57f7-9e02-4fa9-b779-3db82b8af0a4              52.0              2.12   \n",
       "df2dcdef-c09a-4f35-afab-e1231d3fec9a              62.0              2.21   \n",
       "11f8f968-4cec-4424-8427-9709ab05b5be              69.0              2.28   \n",
       "\n",
       "                                                                            Review Text  \\\n",
       "id                                                                                        \n",
       "b817b0f0-a2f8-4c9d-a5f6-d3fbf8b1d7e9                   Very bad wallet balance not use.   \n",
       "c7844e8f-56c1-487b-ae3e-df2fdf4c1767  Froud app i recharge 199 but not done also sen...   \n",
       "93ff57f7-9e02-4fa9-b779-3db82b8af0a4                       Waste to write comments also   \n",
       "df2dcdef-c09a-4f35-afab-e1231d3fec9a                                           Nice apo   \n",
       "11f8f968-4cec-4424-8427-9709ab05b5be                                      Good nice app   \n",
       "\n",
       "                                      Review Title  Star Rating  \n",
       "id                                                               \n",
       "b817b0f0-a2f8-4c9d-a5f6-d3fbf8b1d7e9           NaN            1  \n",
       "c7844e8f-56c1-487b-ae3e-df2fdf4c1767           NaN            1  \n",
       "93ff57f7-9e02-4fa9-b779-3db82b8af0a4  Waste no use            2  \n",
       "df2dcdef-c09a-4f35-afab-e1231d3fec9a           NaN            5  \n",
       "11f8f968-4cec-4424-8427-9709ab05b5be           NaN            5  "
      ]
     },
     "execution_count": 3,
     "metadata": {},
     "output_type": "execute_result"
    }
   ],
   "source": [
    "train.head()"
   ]
  },
  {
   "cell_type": "markdown",
   "metadata": {},
   "source": [
    "### Rename column names"
   ]
  },
  {
   "cell_type": "code",
   "execution_count": 4,
   "metadata": {},
   "outputs": [],
   "source": [
    "train = train.rename(columns = {'App Version Code':'App_Version_Code',\n",
    "                                'App Version Name':'App_Version_Name',\n",
    "                                'Review Text':'Review_Text',\n",
    "                                'Review Title':'Review_Title',\n",
    "                                'Star Rating':'Star_Rating'})"
   ]
  },
  {
   "cell_type": "code",
   "execution_count": 5,
   "metadata": {},
   "outputs": [
    {
     "data": {
      "text/html": [
       "<div>\n",
       "<style scoped>\n",
       "    .dataframe tbody tr th:only-of-type {\n",
       "        vertical-align: middle;\n",
       "    }\n",
       "\n",
       "    .dataframe tbody tr th {\n",
       "        vertical-align: top;\n",
       "    }\n",
       "\n",
       "    .dataframe thead th {\n",
       "        text-align: right;\n",
       "    }\n",
       "</style>\n",
       "<table border=\"1\" class=\"dataframe\">\n",
       "  <thead>\n",
       "    <tr style=\"text-align: right;\">\n",
       "      <th></th>\n",
       "      <th>App_Version_Name</th>\n",
       "    </tr>\n",
       "    <tr>\n",
       "      <th>App_Version_Code</th>\n",
       "      <th></th>\n",
       "    </tr>\n",
       "  </thead>\n",
       "  <tbody>\n",
       "    <tr>\n",
       "      <th>1.0</th>\n",
       "      <td>1.00</td>\n",
       "    </tr>\n",
       "    <tr>\n",
       "      <th>2.0</th>\n",
       "      <td>1.10</td>\n",
       "    </tr>\n",
       "    <tr>\n",
       "      <th>9.0</th>\n",
       "      <td>1.30</td>\n",
       "    </tr>\n",
       "    <tr>\n",
       "      <th>10.0</th>\n",
       "      <td>1.40</td>\n",
       "    </tr>\n",
       "    <tr>\n",
       "      <th>11.0</th>\n",
       "      <td>1.50</td>\n",
       "    </tr>\n",
       "    <tr>\n",
       "      <th>13.0</th>\n",
       "      <td>1.70</td>\n",
       "    </tr>\n",
       "    <tr>\n",
       "      <th>14.0</th>\n",
       "      <td>1.70</td>\n",
       "    </tr>\n",
       "    <tr>\n",
       "      <th>17.0</th>\n",
       "      <td>1.80</td>\n",
       "    </tr>\n",
       "    <tr>\n",
       "      <th>18.0</th>\n",
       "      <td>1.80</td>\n",
       "    </tr>\n",
       "    <tr>\n",
       "      <th>28.0</th>\n",
       "      <td>1.90</td>\n",
       "    </tr>\n",
       "    <tr>\n",
       "      <th>29.0</th>\n",
       "      <td>1.10</td>\n",
       "    </tr>\n",
       "    <tr>\n",
       "      <th>30.0</th>\n",
       "      <td>1.10</td>\n",
       "    </tr>\n",
       "    <tr>\n",
       "      <th>32.0</th>\n",
       "      <td>1.10</td>\n",
       "    </tr>\n",
       "    <tr>\n",
       "      <th>33.0</th>\n",
       "      <td>1.12</td>\n",
       "    </tr>\n",
       "    <tr>\n",
       "      <th>34.0</th>\n",
       "      <td>1.14</td>\n",
       "    </tr>\n",
       "    <tr>\n",
       "      <th>35.0</th>\n",
       "      <td>1.15</td>\n",
       "    </tr>\n",
       "    <tr>\n",
       "      <th>36.0</th>\n",
       "      <td>1.16</td>\n",
       "    </tr>\n",
       "    <tr>\n",
       "      <th>37.0</th>\n",
       "      <td>1.17</td>\n",
       "    </tr>\n",
       "    <tr>\n",
       "      <th>38.0</th>\n",
       "      <td>1.18</td>\n",
       "    </tr>\n",
       "    <tr>\n",
       "      <th>39.0</th>\n",
       "      <td>1.19</td>\n",
       "    </tr>\n",
       "    <tr>\n",
       "      <th>40.0</th>\n",
       "      <td>2.00</td>\n",
       "    </tr>\n",
       "    <tr>\n",
       "      <th>42.0</th>\n",
       "      <td>2.20</td>\n",
       "    </tr>\n",
       "    <tr>\n",
       "      <th>43.0</th>\n",
       "      <td>2.30</td>\n",
       "    </tr>\n",
       "    <tr>\n",
       "      <th>44.0</th>\n",
       "      <td>2.40</td>\n",
       "    </tr>\n",
       "    <tr>\n",
       "      <th>45.0</th>\n",
       "      <td>2.50</td>\n",
       "    </tr>\n",
       "    <tr>\n",
       "      <th>46.0</th>\n",
       "      <td>2.60</td>\n",
       "    </tr>\n",
       "    <tr>\n",
       "      <th>47.0</th>\n",
       "      <td>2.70</td>\n",
       "    </tr>\n",
       "    <tr>\n",
       "      <th>49.0</th>\n",
       "      <td>2.90</td>\n",
       "    </tr>\n",
       "    <tr>\n",
       "      <th>50.0</th>\n",
       "      <td>2.10</td>\n",
       "    </tr>\n",
       "    <tr>\n",
       "      <th>52.0</th>\n",
       "      <td>2.12</td>\n",
       "    </tr>\n",
       "    <tr>\n",
       "      <th>...</th>\n",
       "      <td>...</td>\n",
       "    </tr>\n",
       "    <tr>\n",
       "      <th>57.0</th>\n",
       "      <td>2.16</td>\n",
       "    </tr>\n",
       "    <tr>\n",
       "      <th>58.0</th>\n",
       "      <td>2.17</td>\n",
       "    </tr>\n",
       "    <tr>\n",
       "      <th>59.0</th>\n",
       "      <td>2.18</td>\n",
       "    </tr>\n",
       "    <tr>\n",
       "      <th>61.0</th>\n",
       "      <td>2.20</td>\n",
       "    </tr>\n",
       "    <tr>\n",
       "      <th>62.0</th>\n",
       "      <td>2.21</td>\n",
       "    </tr>\n",
       "    <tr>\n",
       "      <th>64.0</th>\n",
       "      <td>2.23</td>\n",
       "    </tr>\n",
       "    <tr>\n",
       "      <th>65.0</th>\n",
       "      <td>2.24</td>\n",
       "    </tr>\n",
       "    <tr>\n",
       "      <th>66.0</th>\n",
       "      <td>2.25</td>\n",
       "    </tr>\n",
       "    <tr>\n",
       "      <th>68.0</th>\n",
       "      <td>2.27</td>\n",
       "    </tr>\n",
       "    <tr>\n",
       "      <th>69.0</th>\n",
       "      <td>2.28</td>\n",
       "    </tr>\n",
       "    <tr>\n",
       "      <th>70.0</th>\n",
       "      <td>2.29</td>\n",
       "    </tr>\n",
       "    <tr>\n",
       "      <th>71.0</th>\n",
       "      <td>2.30</td>\n",
       "    </tr>\n",
       "    <tr>\n",
       "      <th>72.0</th>\n",
       "      <td>2.31</td>\n",
       "    </tr>\n",
       "    <tr>\n",
       "      <th>73.0</th>\n",
       "      <td>2.32</td>\n",
       "    </tr>\n",
       "    <tr>\n",
       "      <th>74.0</th>\n",
       "      <td>2.33</td>\n",
       "    </tr>\n",
       "    <tr>\n",
       "      <th>75.0</th>\n",
       "      <td>2.34</td>\n",
       "    </tr>\n",
       "    <tr>\n",
       "      <th>76.0</th>\n",
       "      <td>2.35</td>\n",
       "    </tr>\n",
       "    <tr>\n",
       "      <th>77.0</th>\n",
       "      <td>2.36</td>\n",
       "    </tr>\n",
       "    <tr>\n",
       "      <th>78.0</th>\n",
       "      <td>2.37</td>\n",
       "    </tr>\n",
       "    <tr>\n",
       "      <th>80.0</th>\n",
       "      <td>2.39</td>\n",
       "    </tr>\n",
       "    <tr>\n",
       "      <th>81.0</th>\n",
       "      <td>2.40</td>\n",
       "    </tr>\n",
       "    <tr>\n",
       "      <th>82.0</th>\n",
       "      <td>2.41</td>\n",
       "    </tr>\n",
       "    <tr>\n",
       "      <th>83.0</th>\n",
       "      <td>2.42</td>\n",
       "    </tr>\n",
       "    <tr>\n",
       "      <th>84.0</th>\n",
       "      <td>2.43</td>\n",
       "    </tr>\n",
       "    <tr>\n",
       "      <th>85.0</th>\n",
       "      <td>2.44</td>\n",
       "    </tr>\n",
       "    <tr>\n",
       "      <th>86.0</th>\n",
       "      <td>2.45</td>\n",
       "    </tr>\n",
       "    <tr>\n",
       "      <th>87.0</th>\n",
       "      <td>2.46</td>\n",
       "    </tr>\n",
       "    <tr>\n",
       "      <th>88.0</th>\n",
       "      <td>2.47</td>\n",
       "    </tr>\n",
       "    <tr>\n",
       "      <th>89.0</th>\n",
       "      <td>2.48</td>\n",
       "    </tr>\n",
       "    <tr>\n",
       "      <th>90.0</th>\n",
       "      <td>2.49</td>\n",
       "    </tr>\n",
       "  </tbody>\n",
       "</table>\n",
       "<p>63 rows × 1 columns</p>\n",
       "</div>"
      ],
      "text/plain": [
       "                  App_Version_Name\n",
       "App_Version_Code                  \n",
       "1.0                           1.00\n",
       "2.0                           1.10\n",
       "9.0                           1.30\n",
       "10.0                          1.40\n",
       "11.0                          1.50\n",
       "13.0                          1.70\n",
       "14.0                          1.70\n",
       "17.0                          1.80\n",
       "18.0                          1.80\n",
       "28.0                          1.90\n",
       "29.0                          1.10\n",
       "30.0                          1.10\n",
       "32.0                          1.10\n",
       "33.0                          1.12\n",
       "34.0                          1.14\n",
       "35.0                          1.15\n",
       "36.0                          1.16\n",
       "37.0                          1.17\n",
       "38.0                          1.18\n",
       "39.0                          1.19\n",
       "40.0                          2.00\n",
       "42.0                          2.20\n",
       "43.0                          2.30\n",
       "44.0                          2.40\n",
       "45.0                          2.50\n",
       "46.0                          2.60\n",
       "47.0                          2.70\n",
       "49.0                          2.90\n",
       "50.0                          2.10\n",
       "52.0                          2.12\n",
       "...                            ...\n",
       "57.0                          2.16\n",
       "58.0                          2.17\n",
       "59.0                          2.18\n",
       "61.0                          2.20\n",
       "62.0                          2.21\n",
       "64.0                          2.23\n",
       "65.0                          2.24\n",
       "66.0                          2.25\n",
       "68.0                          2.27\n",
       "69.0                          2.28\n",
       "70.0                          2.29\n",
       "71.0                          2.30\n",
       "72.0                          2.31\n",
       "73.0                          2.32\n",
       "74.0                          2.33\n",
       "75.0                          2.34\n",
       "76.0                          2.35\n",
       "77.0                          2.36\n",
       "78.0                          2.37\n",
       "80.0                          2.39\n",
       "81.0                          2.40\n",
       "82.0                          2.41\n",
       "83.0                          2.42\n",
       "84.0                          2.43\n",
       "85.0                          2.44\n",
       "86.0                          2.45\n",
       "87.0                          2.46\n",
       "88.0                          2.47\n",
       "89.0                          2.48\n",
       "90.0                          2.49\n",
       "\n",
       "[63 rows x 1 columns]"
      ]
     },
     "execution_count": 5,
     "metadata": {},
     "output_type": "execute_result"
    }
   ],
   "source": [
    "temp = train[['App_Version_Name','App_Version_Code']].copy()\n",
    "temp = temp.groupby('App_Version_Code')\n",
    "temp.first()"
   ]
  },
  {
   "cell_type": "code",
   "execution_count": 6,
   "metadata": {},
   "outputs": [
    {
     "data": {
      "text/html": [
       "<div>\n",
       "<style scoped>\n",
       "    .dataframe tbody tr th:only-of-type {\n",
       "        vertical-align: middle;\n",
       "    }\n",
       "\n",
       "    .dataframe tbody tr th {\n",
       "        vertical-align: top;\n",
       "    }\n",
       "\n",
       "    .dataframe thead th {\n",
       "        text-align: right;\n",
       "    }\n",
       "</style>\n",
       "<table border=\"1\" class=\"dataframe\">\n",
       "  <thead>\n",
       "    <tr style=\"text-align: right;\">\n",
       "      <th></th>\n",
       "      <th>App_Version_Code</th>\n",
       "      <th>App_Version_Name</th>\n",
       "      <th>Star_Rating</th>\n",
       "    </tr>\n",
       "  </thead>\n",
       "  <tbody>\n",
       "    <tr>\n",
       "      <th>App_Version_Code</th>\n",
       "      <td>1.000000</td>\n",
       "      <td>0.797276</td>\n",
       "      <td>0.119184</td>\n",
       "    </tr>\n",
       "    <tr>\n",
       "      <th>App_Version_Name</th>\n",
       "      <td>0.797276</td>\n",
       "      <td>1.000000</td>\n",
       "      <td>0.057669</td>\n",
       "    </tr>\n",
       "    <tr>\n",
       "      <th>Star_Rating</th>\n",
       "      <td>0.119184</td>\n",
       "      <td>0.057669</td>\n",
       "      <td>1.000000</td>\n",
       "    </tr>\n",
       "  </tbody>\n",
       "</table>\n",
       "</div>"
      ],
      "text/plain": [
       "                  App_Version_Code  App_Version_Name  Star_Rating\n",
       "App_Version_Code          1.000000          0.797276     0.119184\n",
       "App_Version_Name          0.797276          1.000000     0.057669\n",
       "Star_Rating               0.119184          0.057669     1.000000"
      ]
     },
     "execution_count": 6,
     "metadata": {},
     "output_type": "execute_result"
    }
   ],
   "source": [
    "train.corr() "
   ]
  },
  {
   "cell_type": "markdown",
   "metadata": {},
   "source": [
    "### Here we can see very positive correlation(0.8) between version and each version code has unique name. So we use only verson code."
   ]
  },
  {
   "cell_type": "code",
   "execution_count": 7,
   "metadata": {},
   "outputs": [
    {
     "name": "stdout",
     "output_type": "stream",
     "text": [
      "<class 'pandas.core.frame.DataFrame'>\n",
      "Index: 5693 entries, b817b0f0-a2f8-4c9d-a5f6-d3fbf8b1d7e9 to 0a4c9a2a-8510-4e1d-a5ba-bd30afbac09a\n",
      "Data columns (total 5 columns):\n",
      "App_Version_Code    4554 non-null float64\n",
      "App_Version_Name    4554 non-null float64\n",
      "Review_Text         5692 non-null object\n",
      "Review_Title        602 non-null object\n",
      "Star_Rating         5693 non-null int64\n",
      "dtypes: float64(2), int64(1), object(2)\n",
      "memory usage: 266.9+ KB\n"
     ]
    }
   ],
   "source": [
    "train.info()"
   ]
  },
  {
   "cell_type": "code",
   "execution_count": 8,
   "metadata": {},
   "outputs": [
    {
     "data": {
      "text/html": [
       "<div>\n",
       "<style scoped>\n",
       "    .dataframe tbody tr th:only-of-type {\n",
       "        vertical-align: middle;\n",
       "    }\n",
       "\n",
       "    .dataframe tbody tr th {\n",
       "        vertical-align: top;\n",
       "    }\n",
       "\n",
       "    .dataframe thead th {\n",
       "        text-align: right;\n",
       "    }\n",
       "</style>\n",
       "<table border=\"1\" class=\"dataframe\">\n",
       "  <thead>\n",
       "    <tr style=\"text-align: right;\">\n",
       "      <th></th>\n",
       "      <th>App_Version_Code</th>\n",
       "      <th>App_Version_Name</th>\n",
       "      <th>Star_Rating</th>\n",
       "    </tr>\n",
       "  </thead>\n",
       "  <tbody>\n",
       "    <tr>\n",
       "      <th>count</th>\n",
       "      <td>4554.000000</td>\n",
       "      <td>4554.000000</td>\n",
       "      <td>5693.000000</td>\n",
       "    </tr>\n",
       "    <tr>\n",
       "      <th>mean</th>\n",
       "      <td>71.250329</td>\n",
       "      <td>2.290832</td>\n",
       "      <td>3.479009</td>\n",
       "    </tr>\n",
       "    <tr>\n",
       "      <th>std</th>\n",
       "      <td>15.572342</td>\n",
       "      <td>0.244186</td>\n",
       "      <td>1.793187</td>\n",
       "    </tr>\n",
       "    <tr>\n",
       "      <th>min</th>\n",
       "      <td>1.000000</td>\n",
       "      <td>1.000000</td>\n",
       "      <td>1.000000</td>\n",
       "    </tr>\n",
       "    <tr>\n",
       "      <th>25%</th>\n",
       "      <td>66.000000</td>\n",
       "      <td>2.270000</td>\n",
       "      <td>1.000000</td>\n",
       "    </tr>\n",
       "    <tr>\n",
       "      <th>50%</th>\n",
       "      <td>75.000000</td>\n",
       "      <td>2.340000</td>\n",
       "      <td>5.000000</td>\n",
       "    </tr>\n",
       "    <tr>\n",
       "      <th>75%</th>\n",
       "      <td>82.000000</td>\n",
       "      <td>2.420000</td>\n",
       "      <td>5.000000</td>\n",
       "    </tr>\n",
       "    <tr>\n",
       "      <th>max</th>\n",
       "      <td>90.000000</td>\n",
       "      <td>2.900000</td>\n",
       "      <td>5.000000</td>\n",
       "    </tr>\n",
       "  </tbody>\n",
       "</table>\n",
       "</div>"
      ],
      "text/plain": [
       "       App_Version_Code  App_Version_Name  Star_Rating\n",
       "count       4554.000000       4554.000000  5693.000000\n",
       "mean          71.250329          2.290832     3.479009\n",
       "std           15.572342          0.244186     1.793187\n",
       "min            1.000000          1.000000     1.000000\n",
       "25%           66.000000          2.270000     1.000000\n",
       "50%           75.000000          2.340000     5.000000\n",
       "75%           82.000000          2.420000     5.000000\n",
       "max           90.000000          2.900000     5.000000"
      ]
     },
     "execution_count": 8,
     "metadata": {},
     "output_type": "execute_result"
    }
   ],
   "source": [
    "train.describe()"
   ]
  },
  {
   "cell_type": "markdown",
   "metadata": {},
   "source": [
    "### Missing values App_Version_Code,Review_Title"
   ]
  },
  {
   "cell_type": "code",
   "execution_count": 9,
   "metadata": {},
   "outputs": [
    {
     "data": {
      "image/png": "[encoded data removed]",
      "text/plain": [
       "<Figure size 1080x432 with 1 Axes>"
      ]
     },
     "metadata": {
      "needs_background": "light"
     },
     "output_type": "display_data"
    }
   ],
   "source": [
    "plt.figure(figsize=(15,6))\n",
    "plt.hist(train['App_Version_Code'], bins = range(1,81))\n",
    "plt.show()"
   ]
  },
  {
   "cell_type": "code",
   "execution_count": 10,
   "metadata": {},
   "outputs": [
    {
     "data": {
      "image/png": "[encoded data removed]",
      "text/plain": [
       "<Figure size 1080x432 with 2 Axes>"
      ]
     },
     "metadata": {
      "needs_background": "light"
     },
     "output_type": "display_data"
    }
   ],
   "source": [
    "plt.figure(figsize=(15,6))\n",
    "plt.subplot(1, 2, 1)\n",
    "plt.hist(train[pd.isnull(train['App_Version_Code'])]['Star_Rating'])\n",
    "plt.title('App Version Code(empty) vs Star Rating')\n",
    "plt.subplot(1, 2, 2)\n",
    "plt.hist(train.Star_Rating)\n",
    "plt.title('Star rating')\n",
    "plt.show()"
   ]
  },
  {
   "cell_type": "code",
   "execution_count": 11,
   "metadata": {},
   "outputs": [
    {
     "data": {
      "image/png": "[encoded data removed]",
      "text/plain": [
       "<Figure size 1080x432 with 2 Axes>"
      ]
     },
     "metadata": {
      "needs_background": "light"
     },
     "output_type": "display_data"
    }
   ],
   "source": [
    "plt.figure(figsize=(15,6))\n",
    "plt.subplot(1, 2, 1)\n",
    "plt.hist(train[pd.isnull(train['Review_Title'])]['Star_Rating'])\n",
    "plt.title('Review Title(empty) vs Star Rating')\n",
    "plt.subplot(1, 2, 2)\n",
    "plt.hist(train.Star_Rating)\n",
    "plt.title('Star rating')\n",
    "plt.show()"
   ]
  },
  {
   "cell_type": "code",
   "execution_count": 12,
   "metadata": {},
   "outputs": [],
   "source": [
    "train['App_Version_Code'].fillna(0, inplace = True)\n",
    "train['Review_Title'].fillna('X', inplace = True)\n",
    "train['App_Version_Code'] = train['App_Version_Code'].astype(int)\n",
    "train['Review_Text'] = train['Review_Text'].astype(str).str.lower()\n",
    "train['Review_Title'] = train['Review_Title'].astype(str).str.lower()"
   ]
  },
  {
   "cell_type": "markdown",
   "metadata": {},
   "source": [
    "Here we fill 0 in missing App_Version_Code and \"X\" in Review_title.\n",
    "Also we will change text to lower case."
   ]
  },
  {
   "cell_type": "code",
   "execution_count": 13,
   "metadata": {},
   "outputs": [
    {
     "name": "stdout",
     "output_type": "stream",
     "text": [
      "<class 'pandas.core.frame.DataFrame'>\n",
      "Index: 5693 entries, b817b0f0-a2f8-4c9d-a5f6-d3fbf8b1d7e9 to 0a4c9a2a-8510-4e1d-a5ba-bd30afbac09a\n",
      "Data columns (total 5 columns):\n",
      "App_Version_Code    5693 non-null int64\n",
      "App_Version_Name    4554 non-null float64\n",
      "Review_Text         5693 non-null object\n",
      "Review_Title        5693 non-null object\n",
      "Star_Rating         5693 non-null int64\n",
      "dtypes: float64(1), int64(2), object(2)\n",
      "memory usage: 266.9+ KB\n"
     ]
    }
   ],
   "source": [
    "train.info()"
   ]
  },
  {
   "cell_type": "code",
   "execution_count": 14,
   "metadata": {},
   "outputs": [],
   "source": [
    "def freq_words(x, terms):\n",
    "  all_words = ' '.join([text for text in x])\n",
    "  all_words = all_words.split()\n",
    "  fdist = nltk.FreqDist(all_words)\n",
    "  words_df = pd.DataFrame({'word':list(fdist.keys()), 'count':list(fdist.values())})\n",
    "  d = words_df.nlargest(columns=\"count\", n = terms) \n",
    "  plt.figure(figsize=(12,15))\n",
    "  ax = sns.barplot(data=d, x= \"count\", y = \"word\")\n",
    "  ax.set(ylabel = 'Word')\n",
    "  plt.show()"
   ]
  },
  {
   "cell_type": "code",
   "execution_count": 15,
   "metadata": {},
   "outputs": [
    {
     "data": {
      "image/png": "[encoded data removed]",
      "text/plain": [
       "<Figure size 864x1080 with 1 Axes>"
      ]
     },
     "metadata": {
      "needs_background": "light"
     },
     "output_type": "display_data"
    }
   ],
   "source": [
    "freq_words(train['Review_Text'], 50)"
   ]
  },
  {
   "cell_type": "markdown",
   "metadata": {},
   "source": [
    "### Clean text with stopwords"
   ]
  },
  {
   "cell_type": "code",
   "execution_count": 16,
   "metadata": {},
   "outputs": [],
   "source": [
    "def cleaner(text):\n",
    "    translator = str.maketrans('', '', string.punctuation)\n",
    "    words = word_tokenize(text.translate(translator))\n",
    "    #words = list([val for val in words if val.isalpha()])\n",
    "    clwords = [w for w in words if not w in stopwords.words('english')]\n",
    "    return \" \".join(clwords)"
   ]
  },
  {
   "cell_type": "code",
   "execution_count": 17,
   "metadata": {},
   "outputs": [],
   "source": [
    "train['Clean_Review_Text'] = train['Review_Text'].apply(cleaner)\n",
    "\n",
    "train['Clean_Review_Title'] = train['Review_Title'].apply(cleaner)"
   ]
  },
  {
   "cell_type": "code",
   "execution_count": 18,
   "metadata": {},
   "outputs": [
    {
     "data": {
      "text/html": [
       "<div>\n",
       "<style scoped>\n",
       "    .dataframe tbody tr th:only-of-type {\n",
       "        vertical-align: middle;\n",
       "    }\n",
       "\n",
       "    .dataframe tbody tr th {\n",
       "        vertical-align: top;\n",
       "    }\n",
       "\n",
       "    .dataframe thead th {\n",
       "        text-align: right;\n",
       "    }\n",
       "</style>\n",
       "<table border=\"1\" class=\"dataframe\">\n",
       "  <thead>\n",
       "    <tr style=\"text-align: right;\">\n",
       "      <th></th>\n",
       "      <th>App_Version_Code</th>\n",
       "      <th>App_Version_Name</th>\n",
       "      <th>Review_Text</th>\n",
       "      <th>Review_Title</th>\n",
       "      <th>Star_Rating</th>\n",
       "      <th>Clean_Review_Text</th>\n",
       "      <th>Clean_Review_Title</th>\n",
       "    </tr>\n",
       "    <tr>\n",
       "      <th>id</th>\n",
       "      <th></th>\n",
       "      <th></th>\n",
       "      <th></th>\n",
       "      <th></th>\n",
       "      <th></th>\n",
       "      <th></th>\n",
       "      <th></th>\n",
       "    </tr>\n",
       "  </thead>\n",
       "  <tbody>\n",
       "    <tr>\n",
       "      <th>b817b0f0-a2f8-4c9d-a5f6-d3fbf8b1d7e9</th>\n",
       "      <td>0</td>\n",
       "      <td>NaN</td>\n",
       "      <td>very bad wallet balance not use.</td>\n",
       "      <td>x</td>\n",
       "      <td>1</td>\n",
       "      <td>bad wallet balance use</td>\n",
       "      <td>x</td>\n",
       "    </tr>\n",
       "    <tr>\n",
       "      <th>c7844e8f-56c1-487b-ae3e-df2fdf4c1767</th>\n",
       "      <td>43</td>\n",
       "      <td>2.30</td>\n",
       "      <td>froud app i recharge 199 but not done also sen...</td>\n",
       "      <td>x</td>\n",
       "      <td>1</td>\n",
       "      <td>froud app recharge 199 done also send mail nik...</td>\n",
       "      <td>x</td>\n",
       "    </tr>\n",
       "    <tr>\n",
       "      <th>93ff57f7-9e02-4fa9-b779-3db82b8af0a4</th>\n",
       "      <td>52</td>\n",
       "      <td>2.12</td>\n",
       "      <td>waste to write comments also</td>\n",
       "      <td>waste no use</td>\n",
       "      <td>2</td>\n",
       "      <td>waste write comments also</td>\n",
       "      <td>waste use</td>\n",
       "    </tr>\n",
       "    <tr>\n",
       "      <th>df2dcdef-c09a-4f35-afab-e1231d3fec9a</th>\n",
       "      <td>62</td>\n",
       "      <td>2.21</td>\n",
       "      <td>nice apo</td>\n",
       "      <td>x</td>\n",
       "      <td>5</td>\n",
       "      <td>nice apo</td>\n",
       "      <td>x</td>\n",
       "    </tr>\n",
       "    <tr>\n",
       "      <th>11f8f968-4cec-4424-8427-9709ab05b5be</th>\n",
       "      <td>69</td>\n",
       "      <td>2.28</td>\n",
       "      <td>good nice app</td>\n",
       "      <td>x</td>\n",
       "      <td>5</td>\n",
       "      <td>good nice app</td>\n",
       "      <td>x</td>\n",
       "    </tr>\n",
       "  </tbody>\n",
       "</table>\n",
       "</div>"
      ],
      "text/plain": [
       "                                      App_Version_Code  App_Version_Name  \\\n",
       "id                                                                         \n",
       "b817b0f0-a2f8-4c9d-a5f6-d3fbf8b1d7e9                 0               NaN   \n",
       "c7844e8f-56c1-487b-ae3e-df2fdf4c1767                43              2.30   \n",
       "93ff57f7-9e02-4fa9-b779-3db82b8af0a4                52              2.12   \n",
       "df2dcdef-c09a-4f35-afab-e1231d3fec9a                62              2.21   \n",
       "11f8f968-4cec-4424-8427-9709ab05b5be                69              2.28   \n",
       "\n",
       "                                                                            Review_Text  \\\n",
       "id                                                                                        \n",
       "b817b0f0-a2f8-4c9d-a5f6-d3fbf8b1d7e9                   very bad wallet balance not use.   \n",
       "c7844e8f-56c1-487b-ae3e-df2fdf4c1767  froud app i recharge 199 but not done also sen...   \n",
       "93ff57f7-9e02-4fa9-b779-3db82b8af0a4                       waste to write comments also   \n",
       "df2dcdef-c09a-4f35-afab-e1231d3fec9a                                           nice apo   \n",
       "11f8f968-4cec-4424-8427-9709ab05b5be                                      good nice app   \n",
       "\n",
       "                                      Review_Title  Star_Rating  \\\n",
       "id                                                                \n",
       "b817b0f0-a2f8-4c9d-a5f6-d3fbf8b1d7e9             x            1   \n",
       "c7844e8f-56c1-487b-ae3e-df2fdf4c1767             x            1   \n",
       "93ff57f7-9e02-4fa9-b779-3db82b8af0a4  waste no use            2   \n",
       "df2dcdef-c09a-4f35-afab-e1231d3fec9a             x            5   \n",
       "11f8f968-4cec-4424-8427-9709ab05b5be             x            5   \n",
       "\n",
       "                                                                      Clean_Review_Text  \\\n",
       "id                                                                                        \n",
       "b817b0f0-a2f8-4c9d-a5f6-d3fbf8b1d7e9                             bad wallet balance use   \n",
       "c7844e8f-56c1-487b-ae3e-df2fdf4c1767  froud app recharge 199 done also send mail nik...   \n",
       "93ff57f7-9e02-4fa9-b779-3db82b8af0a4                          waste write comments also   \n",
       "df2dcdef-c09a-4f35-afab-e1231d3fec9a                                           nice apo   \n",
       "11f8f968-4cec-4424-8427-9709ab05b5be                                      good nice app   \n",
       "\n",
       "                                     Clean_Review_Title  \n",
       "id                                                       \n",
       "b817b0f0-a2f8-4c9d-a5f6-d3fbf8b1d7e9                  x  \n",
       "c7844e8f-56c1-487b-ae3e-df2fdf4c1767                  x  \n",
       "93ff57f7-9e02-4fa9-b779-3db82b8af0a4          waste use  \n",
       "df2dcdef-c09a-4f35-afab-e1231d3fec9a                  x  \n",
       "11f8f968-4cec-4424-8427-9709ab05b5be                  x  "
      ]
     },
     "execution_count": 18,
     "metadata": {},
     "output_type": "execute_result"
    }
   ],
   "source": [
    "train.head()"
   ]
  },
  {
   "cell_type": "code",
   "execution_count": 19,
   "metadata": {},
   "outputs": [
    {
     "data": {
      "image/png": "[encoded data removed]",
      "text/plain": [
       "<Figure size 864x1080 with 1 Axes>"
      ]
     },
     "metadata": {
      "needs_background": "light"
     },
     "output_type": "display_data"
    }
   ],
   "source": [
    "freq_words(train['Clean_Review_Text'], 50)"
   ]
  },
  {
   "cell_type": "markdown",
   "metadata": {},
   "source": [
    "### sentiment analysis"
   ]
  },
  {
   "cell_type": "code",
   "execution_count": 20,
   "metadata": {},
   "outputs": [],
   "source": [
    "def sentiment_analysis(text):\n",
    "    return TextBlob(text).sentiment.polarity"
   ]
  },
  {
   "cell_type": "code",
   "execution_count": 21,
   "metadata": {},
   "outputs": [],
   "source": [
    "train['Sent_Review_Text'] = train['Clean_Review_Text'].apply(sentiment_analysis)\n",
    "\n",
    "train['Sent_Review_Title'] = train['Clean_Review_Title'].apply(sentiment_analysis)"
   ]
  },
  {
   "cell_type": "code",
   "execution_count": 22,
   "metadata": {},
   "outputs": [
    {
     "data": {
      "text/html": [
       "<div>\n",
       "<style scoped>\n",
       "    .dataframe tbody tr th:only-of-type {\n",
       "        vertical-align: middle;\n",
       "    }\n",
       "\n",
       "    .dataframe tbody tr th {\n",
       "        vertical-align: top;\n",
       "    }\n",
       "\n",
       "    .dataframe thead th {\n",
       "        text-align: right;\n",
       "    }\n",
       "</style>\n",
       "<table border=\"1\" class=\"dataframe\">\n",
       "  <thead>\n",
       "    <tr style=\"text-align: right;\">\n",
       "      <th></th>\n",
       "      <th>App_Version_Code</th>\n",
       "      <th>App_Version_Name</th>\n",
       "      <th>Review_Text</th>\n",
       "      <th>Review_Title</th>\n",
       "      <th>Star_Rating</th>\n",
       "      <th>Clean_Review_Text</th>\n",
       "      <th>Clean_Review_Title</th>\n",
       "      <th>Sent_Review_Text</th>\n",
       "      <th>Sent_Review_Title</th>\n",
       "    </tr>\n",
       "    <tr>\n",
       "      <th>id</th>\n",
       "      <th></th>\n",
       "      <th></th>\n",
       "      <th></th>\n",
       "      <th></th>\n",
       "      <th></th>\n",
       "      <th></th>\n",
       "      <th></th>\n",
       "      <th></th>\n",
       "      <th></th>\n",
       "    </tr>\n",
       "  </thead>\n",
       "  <tbody>\n",
       "    <tr>\n",
       "      <th>b817b0f0-a2f8-4c9d-a5f6-d3fbf8b1d7e9</th>\n",
       "      <td>0</td>\n",
       "      <td>NaN</td>\n",
       "      <td>very bad wallet balance not use.</td>\n",
       "      <td>x</td>\n",
       "      <td>1</td>\n",
       "      <td>bad wallet balance use</td>\n",
       "      <td>x</td>\n",
       "      <td>-0.70</td>\n",
       "      <td>0.0</td>\n",
       "    </tr>\n",
       "    <tr>\n",
       "      <th>c7844e8f-56c1-487b-ae3e-df2fdf4c1767</th>\n",
       "      <td>43</td>\n",
       "      <td>2.30</td>\n",
       "      <td>froud app i recharge 199 but not done also sen...</td>\n",
       "      <td>x</td>\n",
       "      <td>1</td>\n",
       "      <td>froud app recharge 199 done also send mail nik...</td>\n",
       "      <td>x</td>\n",
       "      <td>0.00</td>\n",
       "      <td>0.0</td>\n",
       "    </tr>\n",
       "    <tr>\n",
       "      <th>93ff57f7-9e02-4fa9-b779-3db82b8af0a4</th>\n",
       "      <td>52</td>\n",
       "      <td>2.12</td>\n",
       "      <td>waste to write comments also</td>\n",
       "      <td>waste no use</td>\n",
       "      <td>2</td>\n",
       "      <td>waste write comments also</td>\n",
       "      <td>waste use</td>\n",
       "      <td>-0.20</td>\n",
       "      <td>-0.2</td>\n",
       "    </tr>\n",
       "    <tr>\n",
       "      <th>df2dcdef-c09a-4f35-afab-e1231d3fec9a</th>\n",
       "      <td>62</td>\n",
       "      <td>2.21</td>\n",
       "      <td>nice apo</td>\n",
       "      <td>x</td>\n",
       "      <td>5</td>\n",
       "      <td>nice apo</td>\n",
       "      <td>x</td>\n",
       "      <td>0.60</td>\n",
       "      <td>0.0</td>\n",
       "    </tr>\n",
       "    <tr>\n",
       "      <th>11f8f968-4cec-4424-8427-9709ab05b5be</th>\n",
       "      <td>69</td>\n",
       "      <td>2.28</td>\n",
       "      <td>good nice app</td>\n",
       "      <td>x</td>\n",
       "      <td>5</td>\n",
       "      <td>good nice app</td>\n",
       "      <td>x</td>\n",
       "      <td>0.65</td>\n",
       "      <td>0.0</td>\n",
       "    </tr>\n",
       "  </tbody>\n",
       "</table>\n",
       "</div>"
      ],
      "text/plain": [
       "                                      App_Version_Code  App_Version_Name  \\\n",
       "id                                                                         \n",
       "b817b0f0-a2f8-4c9d-a5f6-d3fbf8b1d7e9                 0               NaN   \n",
       "c7844e8f-56c1-487b-ae3e-df2fdf4c1767                43              2.30   \n",
       "93ff57f7-9e02-4fa9-b779-3db82b8af0a4                52              2.12   \n",
       "df2dcdef-c09a-4f35-afab-e1231d3fec9a                62              2.21   \n",
       "11f8f968-4cec-4424-8427-9709ab05b5be                69              2.28   \n",
       "\n",
       "                                                                            Review_Text  \\\n",
       "id                                                                                        \n",
       "b817b0f0-a2f8-4c9d-a5f6-d3fbf8b1d7e9                   very bad wallet balance not use.   \n",
       "c7844e8f-56c1-487b-ae3e-df2fdf4c1767  froud app i recharge 199 but not done also sen...   \n",
       "93ff57f7-9e02-4fa9-b779-3db82b8af0a4                       waste to write comments also   \n",
       "df2dcdef-c09a-4f35-afab-e1231d3fec9a                                           nice apo   \n",
       "11f8f968-4cec-4424-8427-9709ab05b5be                                      good nice app   \n",
       "\n",
       "                                      Review_Title  Star_Rating  \\\n",
       "id                                                                \n",
       "b817b0f0-a2f8-4c9d-a5f6-d3fbf8b1d7e9             x            1   \n",
       "c7844e8f-56c1-487b-ae3e-df2fdf4c1767             x            1   \n",
       "93ff57f7-9e02-4fa9-b779-3db82b8af0a4  waste no use            2   \n",
       "df2dcdef-c09a-4f35-afab-e1231d3fec9a             x            5   \n",
       "11f8f968-4cec-4424-8427-9709ab05b5be             x            5   \n",
       "\n",
       "                                                                      Clean_Review_Text  \\\n",
       "id                                                                                        \n",
       "b817b0f0-a2f8-4c9d-a5f6-d3fbf8b1d7e9                             bad wallet balance use   \n",
       "c7844e8f-56c1-487b-ae3e-df2fdf4c1767  froud app recharge 199 done also send mail nik...   \n",
       "93ff57f7-9e02-4fa9-b779-3db82b8af0a4                          waste write comments also   \n",
       "df2dcdef-c09a-4f35-afab-e1231d3fec9a                                           nice apo   \n",
       "11f8f968-4cec-4424-8427-9709ab05b5be                                      good nice app   \n",
       "\n",
       "                                     Clean_Review_Title  Sent_Review_Text  \\\n",
       "id                                                                          \n",
       "b817b0f0-a2f8-4c9d-a5f6-d3fbf8b1d7e9                  x             -0.70   \n",
       "c7844e8f-56c1-487b-ae3e-df2fdf4c1767                  x              0.00   \n",
       "93ff57f7-9e02-4fa9-b779-3db82b8af0a4          waste use             -0.20   \n",
       "df2dcdef-c09a-4f35-afab-e1231d3fec9a                  x              0.60   \n",
       "11f8f968-4cec-4424-8427-9709ab05b5be                  x              0.65   \n",
       "\n",
       "                                      Sent_Review_Title  \n",
       "id                                                       \n",
       "b817b0f0-a2f8-4c9d-a5f6-d3fbf8b1d7e9                0.0  \n",
       "c7844e8f-56c1-487b-ae3e-df2fdf4c1767                0.0  \n",
       "93ff57f7-9e02-4fa9-b779-3db82b8af0a4               -0.2  \n",
       "df2dcdef-c09a-4f35-afab-e1231d3fec9a                0.0  \n",
       "11f8f968-4cec-4424-8427-9709ab05b5be                0.0  "
      ]
     },
     "execution_count": 22,
     "metadata": {},
     "output_type": "execute_result"
    }
   ],
   "source": [
    "train.head()"
   ]
  },
  {
   "cell_type": "code",
   "execution_count": 23,
   "metadata": {},
   "outputs": [
    {
     "data": {
      "text/html": [
       "<div>\n",
       "<style scoped>\n",
       "    .dataframe tbody tr th:only-of-type {\n",
       "        vertical-align: middle;\n",
       "    }\n",
       "\n",
       "    .dataframe tbody tr th {\n",
       "        vertical-align: top;\n",
       "    }\n",
       "\n",
       "    .dataframe thead th {\n",
       "        text-align: right;\n",
       "    }\n",
       "</style>\n",
       "<table border=\"1\" class=\"dataframe\">\n",
       "  <thead>\n",
       "    <tr style=\"text-align: right;\">\n",
       "      <th></th>\n",
       "      <th>App_Version_Code</th>\n",
       "      <th>App_Version_Name</th>\n",
       "      <th>Star_Rating</th>\n",
       "      <th>Sent_Review_Text</th>\n",
       "      <th>Sent_Review_Title</th>\n",
       "    </tr>\n",
       "  </thead>\n",
       "  <tbody>\n",
       "    <tr>\n",
       "      <th>App_Version_Code</th>\n",
       "      <td>1.000000</td>\n",
       "      <td>0.797276</td>\n",
       "      <td>0.081997</td>\n",
       "      <td>0.080170</td>\n",
       "      <td>-0.089671</td>\n",
       "    </tr>\n",
       "    <tr>\n",
       "      <th>App_Version_Name</th>\n",
       "      <td>0.797276</td>\n",
       "      <td>1.000000</td>\n",
       "      <td>0.057669</td>\n",
       "      <td>0.064361</td>\n",
       "      <td>-0.136852</td>\n",
       "    </tr>\n",
       "    <tr>\n",
       "      <th>Star_Rating</th>\n",
       "      <td>0.081997</td>\n",
       "      <td>0.057669</td>\n",
       "      <td>1.000000</td>\n",
       "      <td>0.673200</td>\n",
       "      <td>0.212798</td>\n",
       "    </tr>\n",
       "    <tr>\n",
       "      <th>Sent_Review_Text</th>\n",
       "      <td>0.080170</td>\n",
       "      <td>0.064361</td>\n",
       "      <td>0.673200</td>\n",
       "      <td>1.000000</td>\n",
       "      <td>0.097296</td>\n",
       "    </tr>\n",
       "    <tr>\n",
       "      <th>Sent_Review_Title</th>\n",
       "      <td>-0.089671</td>\n",
       "      <td>-0.136852</td>\n",
       "      <td>0.212798</td>\n",
       "      <td>0.097296</td>\n",
       "      <td>1.000000</td>\n",
       "    </tr>\n",
       "  </tbody>\n",
       "</table>\n",
       "</div>"
      ],
      "text/plain": [
       "                   App_Version_Code  App_Version_Name  Star_Rating  \\\n",
       "App_Version_Code           1.000000          0.797276     0.081997   \n",
       "App_Version_Name           0.797276          1.000000     0.057669   \n",
       "Star_Rating                0.081997          0.057669     1.000000   \n",
       "Sent_Review_Text           0.080170          0.064361     0.673200   \n",
       "Sent_Review_Title         -0.089671         -0.136852     0.212798   \n",
       "\n",
       "                   Sent_Review_Text  Sent_Review_Title  \n",
       "App_Version_Code           0.080170          -0.089671  \n",
       "App_Version_Name           0.064361          -0.136852  \n",
       "Star_Rating                0.673200           0.212798  \n",
       "Sent_Review_Text           1.000000           0.097296  \n",
       "Sent_Review_Title          0.097296           1.000000  "
      ]
     },
     "execution_count": 23,
     "metadata": {},
     "output_type": "execute_result"
    }
   ],
   "source": [
    "train.corr()"
   ]
  },
  {
   "cell_type": "markdown",
   "metadata": {},
   "source": [
    "## Here we can see positive correlation between Star Rating and Sent_Review_Text"
   ]
  },
  {
   "cell_type": "markdown",
   "metadata": {},
   "source": [
    "# Modeling"
   ]
  },
  {
   "cell_type": "code",
   "execution_count": 24,
   "metadata": {},
   "outputs": [],
   "source": [
    "def get_one_hot(targets, nb_classes):\n",
    "    res = np.eye(nb_classes)[np.array(targets).reshape(-1)]\n",
    "    return res.reshape(list(targets.shape)+[nb_classes])"
   ]
  },
  {
   "cell_type": "code",
   "execution_count": 25,
   "metadata": {},
   "outputs": [],
   "source": [
    "def modelss(X_train,X_test,y_train,y_test):\n",
    "    gaussian = GaussianNB()\n",
    "    gaussian.fit(X_train, y_train)\n",
    "    y_pred = gaussian.predict(X_test)\n",
    "    print(\"GaussianNB Accuracy:\",metrics.accuracy_score(y_test, y_pred))\n",
    "    print(\"F : \",f1_score(y_test, y_pred, average=\"micro\"))\n",
    "\n",
    "\n",
    "    perceptron = Perceptron()\n",
    "    perceptron.fit(X_train, y_train)\n",
    "    y_pred = perceptron.predict(X_test)\n",
    "    print(\"Perceptron Accuracy:\",metrics.accuracy_score(y_test, y_pred))\n",
    "    print(\"F : \",f1_score(y_test, y_pred, average=\"micro\"))\n",
    "\n",
    "\n",
    "    linear_svc = LinearSVC()\n",
    "    linear_svc.fit(X_train, y_train)\n",
    "    y_pred = linear_svc.predict(X_test)\n",
    "    print(\"LinearSVC Accuracy:\",metrics.accuracy_score(y_test, y_pred))\n",
    "    print(\"F : \",f1_score(y_test, y_pred, average=\"micro\"))\n",
    "\n",
    "\n",
    "\n",
    "    sgd = SGDClassifier()\n",
    "    sgd.fit(X_train, y_train)\n",
    "    y_pred = sgd.predict(X_test)\n",
    "    print(\"SGDClassifier Accuracy:\",metrics.accuracy_score(y_test, y_pred))\n",
    "    print(\"F : \",f1_score(y_test, y_pred, average=\"micro\"))\n",
    "\n",
    "\n",
    "    decision_tree = DecisionTreeClassifier()\n",
    "    decision_tree.fit(X_train, y_train)\n",
    "    y_pred = decision_tree.predict(X_test)\n",
    "    print(\"DecisionTreeClassifier Accuracy:\",metrics.accuracy_score(y_test, y_pred))\n",
    "    print(\"F : \",f1_score(y_test, y_pred, average=\"micro\"))\n",
    "    \n",
    "    \n",
    "    lr = LogisticRegression()\n",
    "    clf = OneVsRestClassifier(lr)\n",
    "    clf.fit(X_train, y_train)\n",
    "    y_pred = clf.predict(X_test)\n",
    "    print(\"LogisticRegression Accuracy:\",metrics.accuracy_score(y_test, y_pred))\n",
    "    print(\"F : \",f1_score(y_test, y_pred, average=\"micro\"))\n",
    "\n",
    "    \n",
    "    \n",
    "    \n",
    "    \n",
    "\n",
    "\n",
    "#     knn = KNeighborsClassifier(n_neighbors=3)\n",
    "#     knn.fit(X_train, y_train)\n",
    "#     y_pred = knn.predict(X_test)\n",
    "#     print(\"KNeighborsClassifier Accuracy:\",metrics.accuracy_score(y_test, y_pred))"
   ]
  },
  {
   "cell_type": "code",
   "execution_count": 26,
   "metadata": {},
   "outputs": [],
   "source": [
    "cv1 = CountVectorizer()\n",
    "X1 = cv1.fit_transform(train['Clean_Review_Text']).toarray()\n",
    "cv2 = CountVectorizer()\n",
    "X2 = cv2.fit_transform(train['Clean_Review_Title']).toarray()\n",
    "X3 = train['Sent_Review_Text'].to_numpy().reshape(len(train['Sent_Review_Text']),-1)\n",
    "X4 = train['App_Version_Code'].to_numpy().reshape(len(train['Sent_Review_Text']),-1)\n",
    "X4 = get_one_hot(X4.reshape(-1),max(X4.flatten())+1)\n",
    "X = np.concatenate((X1,X2,X3),axis = 1)\n"
   ]
  },
  {
   "cell_type": "code",
   "execution_count": 27,
   "metadata": {},
   "outputs": [
    {
     "name": "stdout",
     "output_type": "stream",
     "text": [
      "GaussianNB Accuracy: 0.3202576112412178\n",
      "F :  0.3202576112412178\n",
      "Perceptron Accuracy: 0.7312646370023419\n",
      "F :  0.7312646370023419\n",
      "LinearSVC Accuracy: 0.747072599531616\n",
      "F :  0.747072599531616\n",
      "SGDClassifier Accuracy: 0.7564402810304449\n",
      "F :  0.7564402810304449\n",
      "DecisionTreeClassifier Accuracy: 0.7072599531615925\n",
      "F :  0.7072599531615926\n",
      "LogisticRegression Accuracy: 0.7792740046838408\n",
      "F :  0.7792740046838408\n"
     ]
    }
   ],
   "source": [
    "X_train, X_test, y_train, y_test = train_test_split(X, train['Star_Rating'],test_size=0.3,random_state=9)\n",
    "modelss(X_train,X_test,y_train,y_test)"
   ]
  },
  {
   "cell_type": "code",
   "execution_count": 28,
   "metadata": {},
   "outputs": [],
   "source": [
    "tv1 = TfidfVectorizer()\n",
    "tv2 = TfidfVectorizer()\n",
    "X1 = tv1.fit_transform(train['Clean_Review_Text']).toarray()\n",
    "X2 = tv2.fit_transform(train['Clean_Review_Title']).toarray()\n",
    "X = np.concatenate((X1,X2,X3),axis = 1)"
   ]
  },
  {
   "cell_type": "code",
   "execution_count": 29,
   "metadata": {},
   "outputs": [
    {
     "name": "stdout",
     "output_type": "stream",
     "text": [
      "GaussianNB Accuracy: 0.3261124121779859\n",
      "F :  0.3261124121779859\n",
      "Perceptron Accuracy: 0.7535128805620609\n",
      "F :  0.7535128805620608\n",
      "LinearSVC Accuracy: 0.7775175644028103\n",
      "F :  0.7775175644028103\n",
      "SGDClassifier Accuracy: 0.7634660421545667\n",
      "F :  0.7634660421545668\n",
      "DecisionTreeClassifier Accuracy: 0.7125292740046838\n",
      "F :  0.7125292740046837\n",
      "LogisticRegression Accuracy: 0.772248243559719\n",
      "F :  0.772248243559719\n"
     ]
    }
   ],
   "source": [
    "X_train, X_test, y_train, y_test = train_test_split(X, train['Star_Rating'],test_size=0.3,random_state=9)\n",
    "modelss(X_train,X_test,y_train,y_test)"
   ]
  },
  {
   "cell_type": "markdown",
   "metadata": {},
   "source": [
    "# Prediction on test.csv"
   ]
  },
  {
   "cell_type": "code",
   "execution_count": 30,
   "metadata": {},
   "outputs": [],
   "source": [
    "test = test.rename(columns = {'App Version Code':'App_Version_Code',\n",
    "                                'App Version Name':'App_Version_Name',\n",
    "                                'Review Text':'Review_Text',\n",
    "                                'Review Title':'Review_Title',\n",
    "                                'Star Rating':'Star_Rating'})\n",
    "\n",
    "test['App_Version_Code'].fillna(0, inplace = True)\n",
    "test['Review_Title'].fillna('X', inplace = True)\n",
    "test['App_Version_Code'] = test['App_Version_Code'].astype(int)\n",
    "test['Review_Text'] = test['Review_Text'].astype(str).str.lower()\n",
    "test['Review_Title'] = test['Review_Title'].astype(str).str.lower()\n",
    "\n",
    "test['Clean_Review_Text'] = test['Review_Text'].apply(cleaner)\n",
    "\n",
    "test['Clean_Review_Title'] = test['Review_Title'].apply(cleaner)\n",
    "\n",
    "test['Sent_Review_Text'] = test['Clean_Review_Text'].apply(sentiment_analysis)\n",
    "\n",
    "test['Sent_Review_Title'] = test['Clean_Review_Title'].apply(sentiment_analysis)"
   ]
  },
  {
   "cell_type": "code",
   "execution_count": 31,
   "metadata": {},
   "outputs": [],
   "source": [
    "tv1 = TfidfVectorizer()\n",
    "tv1.fit(np.concatenate((train['Clean_Review_Text'], test['Clean_Review_Text'])))\n",
    "tv2 = TfidfVectorizer()\n",
    "tv2.fit(np.concatenate((train['Clean_Review_Title'], test['Clean_Review_Title'])))\n",
    "\n",
    "\n",
    "X1 = tv1.transform(train['Clean_Review_Text']).toarray()\n",
    "X2 = tv2.transform(train['Clean_Review_Title']).toarray()\n",
    "X3 = train['Sent_Review_Text'].to_numpy().reshape(len(train['Sent_Review_Text']),-1)\n",
    "X4 = train['App_Version_Code'].to_numpy().reshape(len(train['Sent_Review_Text']),-1)\n",
    "X4 = get_one_hot(X4.reshape(-1),max(X4.flatten())+1)\n",
    "X_train = np.concatenate((X1,X2,X3),axis = 1)\n",
    "y_train = train['Star_Rating']\n",
    "\n",
    "X1 = tv1.transform(test['Clean_Review_Text']).toarray()\n",
    "X2 = tv2.transform(test['Clean_Review_Title']).toarray()\n",
    "X3 = test['Sent_Review_Text'].to_numpy().reshape(len(test['Sent_Review_Text']),-1)\n",
    "X4 = test['App_Version_Code'].to_numpy().reshape(len(test['Sent_Review_Text']),-1)\n",
    "X4 = get_one_hot(X4.reshape(-1),max(X4.flatten())+1)\n",
    "X_test = np.concatenate((X1,X2,X3),axis = 1)"
   ]
  },
  {
   "cell_type": "code",
   "execution_count": 32,
   "metadata": {},
   "outputs": [],
   "source": [
    "linear_svc = LinearSVC()\n",
    "linear_svc.fit(X_train, y_train)\n",
    "y_pred = linear_svc.predict(X_test)"
   ]
  },
  {
   "cell_type": "code",
   "execution_count": 33,
   "metadata": {},
   "outputs": [],
   "source": [
    "test['Star Rating'] = y_pred"
   ]
  },
  {
   "cell_type": "code",
   "execution_count": 34,
   "metadata": {},
   "outputs": [
    {
     "data": {
      "text/html": [
       "<div>\n",
       "<style scoped>\n",
       "    .dataframe tbody tr th:only-of-type {\n",
       "        vertical-align: middle;\n",
       "    }\n",
       "\n",
       "    .dataframe tbody tr th {\n",
       "        vertical-align: top;\n",
       "    }\n",
       "\n",
       "    .dataframe thead th {\n",
       "        text-align: right;\n",
       "    }\n",
       "</style>\n",
       "<table border=\"1\" class=\"dataframe\">\n",
       "  <thead>\n",
       "    <tr style=\"text-align: right;\">\n",
       "      <th></th>\n",
       "      <th>App_Version_Code</th>\n",
       "      <th>App_Version_Name</th>\n",
       "      <th>Review_Text</th>\n",
       "      <th>Review_Title</th>\n",
       "      <th>Clean_Review_Text</th>\n",
       "      <th>Clean_Review_Title</th>\n",
       "      <th>Sent_Review_Text</th>\n",
       "      <th>Sent_Review_Title</th>\n",
       "      <th>Star Rating</th>\n",
       "    </tr>\n",
       "    <tr>\n",
       "      <th>id</th>\n",
       "      <th></th>\n",
       "      <th></th>\n",
       "      <th></th>\n",
       "      <th></th>\n",
       "      <th></th>\n",
       "      <th></th>\n",
       "      <th></th>\n",
       "      <th></th>\n",
       "      <th></th>\n",
       "    </tr>\n",
       "  </thead>\n",
       "  <tbody>\n",
       "    <tr>\n",
       "      <th>bdcb3129-afc1-4608-825f-558fe9c17e2b</th>\n",
       "      <td>78</td>\n",
       "      <td>2.37</td>\n",
       "      <td>awesome app, all should use it</td>\n",
       "      <td>x</td>\n",
       "      <td>awesome app use</td>\n",
       "      <td>x</td>\n",
       "      <td>1.000000</td>\n",
       "      <td>0.0</td>\n",
       "      <td>5</td>\n",
       "    </tr>\n",
       "    <tr>\n",
       "      <th>7518d5c8-5e35-45e2-b29d-cf0996ba9e2f</th>\n",
       "      <td>75</td>\n",
       "      <td>2.34</td>\n",
       "      <td>how can i stop notification</td>\n",
       "      <td>x</td>\n",
       "      <td>stop notification</td>\n",
       "      <td>x</td>\n",
       "      <td>0.000000</td>\n",
       "      <td>0.0</td>\n",
       "      <td>4</td>\n",
       "    </tr>\n",
       "    <tr>\n",
       "      <th>b21ca913-ba44-471b-91e1-aaf035379a84</th>\n",
       "      <td>0</td>\n",
       "      <td>NaN</td>\n",
       "      <td>this app is very easy to use , nice graphics ,...</td>\n",
       "      <td>x</td>\n",
       "      <td>app easy use nice graphics great uis ola cabs ...</td>\n",
       "      <td>x</td>\n",
       "      <td>0.566667</td>\n",
       "      <td>0.0</td>\n",
       "      <td>5</td>\n",
       "    </tr>\n",
       "    <tr>\n",
       "      <th>beaaa17d-44af-44c8-ba38-24ba54c3b17d</th>\n",
       "      <td>83</td>\n",
       "      <td>2.42</td>\n",
       "      <td>quite good but felt slow response from cc. ove...</td>\n",
       "      <td>x</td>\n",
       "      <td>quite good felt slow response cc good app</td>\n",
       "      <td>x</td>\n",
       "      <td>0.366667</td>\n",
       "      <td>0.0</td>\n",
       "      <td>5</td>\n",
       "    </tr>\n",
       "    <tr>\n",
       "      <th>89d8c4f0-6fe0-4389-b1f8-913ba894c0f1</th>\n",
       "      <td>74</td>\n",
       "      <td>2.33</td>\n",
       "      <td>not getting otp for login since yesterday. als...</td>\n",
       "      <td>x</td>\n",
       "      <td>getting otp login since yesterday also one pro...</td>\n",
       "      <td>x</td>\n",
       "      <td>0.000000</td>\n",
       "      <td>0.0</td>\n",
       "      <td>1</td>\n",
       "    </tr>\n",
       "  </tbody>\n",
       "</table>\n",
       "</div>"
      ],
      "text/plain": [
       "                                      App_Version_Code  App_Version_Name  \\\n",
       "id                                                                         \n",
       "bdcb3129-afc1-4608-825f-558fe9c17e2b                78              2.37   \n",
       "7518d5c8-5e35-45e2-b29d-cf0996ba9e2f                75              2.34   \n",
       "b21ca913-ba44-471b-91e1-aaf035379a84                 0               NaN   \n",
       "beaaa17d-44af-44c8-ba38-24ba54c3b17d                83              2.42   \n",
       "89d8c4f0-6fe0-4389-b1f8-913ba894c0f1                74              2.33   \n",
       "\n",
       "                                                                            Review_Text  \\\n",
       "id                                                                                        \n",
       "bdcb3129-afc1-4608-825f-558fe9c17e2b                     awesome app, all should use it   \n",
       "7518d5c8-5e35-45e2-b29d-cf0996ba9e2f                        how can i stop notification   \n",
       "b21ca913-ba44-471b-91e1-aaf035379a84  this app is very easy to use , nice graphics ,...   \n",
       "beaaa17d-44af-44c8-ba38-24ba54c3b17d  quite good but felt slow response from cc. ove...   \n",
       "89d8c4f0-6fe0-4389-b1f8-913ba894c0f1  not getting otp for login since yesterday. als...   \n",
       "\n",
       "                                     Review_Title  \\\n",
       "id                                                  \n",
       "bdcb3129-afc1-4608-825f-558fe9c17e2b            x   \n",
       "7518d5c8-5e35-45e2-b29d-cf0996ba9e2f            x   \n",
       "b21ca913-ba44-471b-91e1-aaf035379a84            x   \n",
       "beaaa17d-44af-44c8-ba38-24ba54c3b17d            x   \n",
       "89d8c4f0-6fe0-4389-b1f8-913ba894c0f1            x   \n",
       "\n",
       "                                                                      Clean_Review_Text  \\\n",
       "id                                                                                        \n",
       "bdcb3129-afc1-4608-825f-558fe9c17e2b                                    awesome app use   \n",
       "7518d5c8-5e35-45e2-b29d-cf0996ba9e2f                                  stop notification   \n",
       "b21ca913-ba44-471b-91e1-aaf035379a84  app easy use nice graphics great uis ola cabs ...   \n",
       "beaaa17d-44af-44c8-ba38-24ba54c3b17d          quite good felt slow response cc good app   \n",
       "89d8c4f0-6fe0-4389-b1f8-913ba894c0f1  getting otp login since yesterday also one pro...   \n",
       "\n",
       "                                     Clean_Review_Title  Sent_Review_Text  \\\n",
       "id                                                                          \n",
       "bdcb3129-afc1-4608-825f-558fe9c17e2b                  x          1.000000   \n",
       "7518d5c8-5e35-45e2-b29d-cf0996ba9e2f                  x          0.000000   \n",
       "b21ca913-ba44-471b-91e1-aaf035379a84                  x          0.566667   \n",
       "beaaa17d-44af-44c8-ba38-24ba54c3b17d                  x          0.366667   \n",
       "89d8c4f0-6fe0-4389-b1f8-913ba894c0f1                  x          0.000000   \n",
       "\n",
       "                                      Sent_Review_Title  Star Rating  \n",
       "id                                                                    \n",
       "bdcb3129-afc1-4608-825f-558fe9c17e2b                0.0            5  \n",
       "7518d5c8-5e35-45e2-b29d-cf0996ba9e2f                0.0            4  \n",
       "b21ca913-ba44-471b-91e1-aaf035379a84                0.0            5  \n",
       "beaaa17d-44af-44c8-ba38-24ba54c3b17d                0.0            5  \n",
       "89d8c4f0-6fe0-4389-b1f8-913ba894c0f1                0.0            1  "
      ]
     },
     "execution_count": 34,
     "metadata": {},
     "output_type": "execute_result"
    }
   ],
   "source": [
    "test.head()"
   ]
  },
  {
   "cell_type": "code",
   "execution_count": 35,
   "metadata": {},
   "outputs": [],
   "source": [
    "test['Star Rating'].to_csv('../predictions.csv',header = True)"
   ]
  },
  {
   "cell_type": "code",
   "execution_count": 36,
   "metadata": {},
   "outputs": [
    {
     "data": {
      "image/png": "[encoded data removed]",
      "text/plain": [
       "<Figure size 1080x432 with 2 Axes>"
      ]
     },
     "metadata": {
      "needs_background": "light"
     },
     "output_type": "display_data"
    }
   ],
   "source": [
    "plt.figure(figsize=(15,6))\n",
    "plt.subplot(1, 2, 1)\n",
    "plt.hist(train['Star_Rating'])\n",
    "plt.title('Train Star Rating')\n",
    "plt.subplot(1, 2, 2)\n",
    "plt.hist(test['Star Rating'])\n",
    "plt.title('Test Star rating')\n",
    "plt.show()"
   ]
  },
  {
   "cell_type": "markdown",
   "metadata": {},
   "source": [
    "# Analysis"
   ]
  },
  {
   "cell_type": "code",
   "execution_count": 37,
   "metadata": {},
   "outputs": [
    {
     "data": {
      "text/plain": [
       "Text(0, 0.5, 'No Of User')"
      ]
     },
     "execution_count": 37,
     "metadata": {},
     "output_type": "execute_result"
    },
    {
     "data": {
      "image/png": "[encoded data removed]",
      "text/plain": [
       "<Figure size 432x288 with 1 Axes>"
      ]
     },
     "metadata": {
      "needs_background": "light"
     },
     "output_type": "display_data"
    }
   ],
   "source": [
    "#total Rating\n",
    "plt.hist(train['Star_Rating'])\n",
    "plt.xlabel('Rating', fontsize = 18)\n",
    "plt.ylabel('No Of User', fontsize = 16)"
   ]
  },
  {
   "cell_type": "code",
   "execution_count": 38,
   "metadata": {
    "scrolled": true
   },
   "outputs": [
    {
     "data": {
      "image/png": "[encoded data removed]",
      "text/plain": [
       "<Figure size 1080x576 with 1 Axes>"
      ]
     },
     "metadata": {
      "needs_background": "light"
     },
     "output_type": "display_data"
    }
   ],
   "source": [
    "#positive rating by app version ( based on rating > 3)\n",
    "temp = train[train['Star_Rating'] > 3]\n",
    "temp = temp.groupby('App_Version_Code').count()['Star_Rating'].reset_index()\n",
    "\n",
    "\n",
    "plt.figure(figsize=(15,8))\n",
    "ax = sns.barplot(data=temp,x='App_Version_Code', y='Star_Rating')\n",
    "ax.set(ylabel = 'Word')\n",
    "plt.show()"
   ]
  },
  {
   "cell_type": "code",
   "execution_count": 39,
   "metadata": {},
   "outputs": [
    {
     "data": {
      "image/png": "[encoded data removed]",
      "text/plain": [
       "<Figure size 1080x576 with 1 Axes>"
      ]
     },
     "metadata": {
      "needs_background": "light"
     },
     "output_type": "display_data"
    }
   ],
   "source": [
    "#negative rating by app version ( based on rating < 3)\n",
    "temp = train[train['Star_Rating'] < 3]\n",
    "temp = temp.groupby('App_Version_Code').count()['Star_Rating'].reset_index()\n",
    "\n",
    "\n",
    "plt.figure(figsize=(15,8))\n",
    "ax = sns.barplot(data=temp,x='App_Version_Code', y='Star_Rating')\n",
    "ax.set(ylabel = 'Word')\n",
    "plt.show()"
   ]
  },
  {
   "cell_type": "code",
   "execution_count": 40,
   "metadata": {},
   "outputs": [],
   "source": [
    "df = pd.concat([train['App_Version_Code'], pd.get_dummies(train['Star_Rating'])], axis=1)"
   ]
  },
  {
   "cell_type": "code",
   "execution_count": 41,
   "metadata": {},
   "outputs": [
    {
     "data": {
      "text/plain": [
       "<matplotlib.axes._subplots.AxesSubplot at 0x7f75b1bf37f0>"
      ]
     },
     "execution_count": 41,
     "metadata": {},
     "output_type": "execute_result"
    },
    {
     "data": {
      "image/png": "[encoded data removed]",
      "text/plain": [
       "<Figure size 1440x720 with 1 Axes>"
      ]
     },
     "metadata": {
      "needs_background": "light"
     },
     "output_type": "display_data"
    }
   ],
   "source": [
    "\n",
    "df = df.groupby('App_Version_Code').sum()\n",
    "df.plot.bar(figsize=(20,10))"
   ]
  },
  {
   "cell_type": "code",
   "execution_count": null,
   "metadata": {},
   "outputs": [],
   "source": []
  }
 ],
 "metadata": {
  "kernelspec": {
   "display_name": "Python 3",
   "language": "python",
   "name": "python3"
  },
  "language_info": {
   "codemirror_mode": {
    "name": "ipython",
    "version": 3
   },
   "file_extension": ".py",
   "mimetype": "text/x-python",
   "name": "python",
   "nbconvert_exporter": "python",
   "pygments_lexer": "ipython3",
   "version": "3.7.3"
  }
 },
 "nbformat": 4,
 "nbformat_minor": 2
}
